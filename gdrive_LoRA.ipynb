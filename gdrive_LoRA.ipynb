{
  "cells": [
    {
      "attachments": {},
      "cell_type": "markdown",
      "metadata": {
        "colab_type": "text",
        "id": "view-in-github"
      },
      "source": [
        "<a href=\"https://colab.research.google.com/github/uybinhphan/auto1111/blob/main/gdrive_LoRA.ipynb\" target=\"_parent\"><img src=\"https://colab.research.google.com/assets/colab-badge.svg\" alt=\"Open In Colab\"/></a>"
      ]
    },
    {
      "attachments": {},
      "cell_type": "markdown",
      "metadata": {
        "id": "JNrVHo-_n1cF"
      },
      "source": [
        "# Tab chạy nền "
      ]
    },
    {
      "cell_type": "code",
      "execution_count": null,
      "metadata": {
        "colab": {
          "base_uri": "https://localhost:8080/",
          "height": 93
        },
        "id": "-ATeaF4un16T",
        "outputId": "d1ae1a43-9c5b-4761-d1e3-919bec6d751d"
      },
      "outputs": [
        {
          "data": {
            "text/html": [
              "<b>Press play on the music player(Uses only 13MB of data)</b><br>\n",
              "<audio src=\"https://henk.tech/colabkobold/silence.m4a\" controls>\n"
            ],
            "text/plain": [
              "<IPython.core.display.HTML object>"
            ]
          },
          "metadata": {},
          "output_type": "display_data"
        }
      ],
      "source": [
        "# Run the cell below and play the music player to keep the Colab's tab alive\n",
        "%%html\n",
        "<b>Press play on the music player(Uses only 13MB of data)</b><br>\n",
        "<audio src=\"https://henk.tech/colabkobold/silence.m4a\" controls>"
      ]
    },
    {
      "attachments": {},
      "cell_type": "markdown",
      "metadata": {
        "id": "qxhOCPrg7WXm"
      },
      "source": [
        "# Mount our drive"
      ]
    },
    {
      "cell_type": "code",
      "execution_count": null,
      "metadata": {
        "colab": {
          "base_uri": "https://localhost:8080/"
        },
        "id": "alypPmxi69M4",
        "outputId": "ee6d3061-34db-4fd7-c4d7-d0ec0a6b7e75"
      },
      "outputs": [
        {
          "name": "stdout",
          "output_type": "stream",
          "text": [
            "Mounted at /content/drive\n"
          ]
        }
      ],
      "source": [
        "from google.colab import drive\n",
        "drive.mount('/content/drive')"
      ]
    },
    {
      "attachments": {},
      "cell_type": "markdown",
      "metadata": {
        "id": "bsiZpfkU7S77"
      },
      "source": [
        "# Setup the web ui"
      ]
    },
    {
      "cell_type": "code",
      "execution_count": null,
      "metadata": {
        "id": "sBbcB4vwj_jm"
      },
      "outputs": [],
      "source": [
        "!curl -Lo memfix.zip https://github.com/nolanaatama/sd-webui/raw/main/memfix.zip\n",
        "!unzip /content/memfix.zip\n",
        "!apt install -qq libunwind8-dev\n",
        "!apt install -qq libcairo2-dev pkg-config python3-dev\n",
        "!dpkg -i *.deb\n",
        "%env LD_PRELOAD=libtcmalloc.so\n",
        "!rm *\n",
        "!pip install --upgrade fastapi==0.90.1\n",
        "!pip install torch==1.13.1+cu116 torchvision==0.14.1+cu116 torchaudio==0.13.1 torchtext==0.14.1 torchdata==0.5.1 --extra-index-url https://download.pytorch.org/whl/cu116 -U\n",
        "!curl -Lo sd-webui.zip https://huggingface.co/nolanaatama/webui/resolve/main/sd-webui.zip\n",
        "!unzip /content/sd-webui.zip\n",
        "!git clone https://github.com/nolanaatama/sd-webui-tunnels /content/sd-webui/extensions/sd-webui-tunnels\n",
        "!git clone https://github.com/Mikubill/sd-webui-controlnet /content/sd-webui/extensions/sd-webui-controlnet\n",
        "!git clone https://github.com/fkunn1326/openpose-editor /content/sd-webui/extensions/openpose-editor\n",
        "!git clone https://github.com/hnmr293/posex /content/sd-webui/extensions/posex\n",
        "!git clone https://github.com/jexom/sd-webui-depth-lib /content/sd-webui/extensions/sd-webui-depth-lib\n",
        "!git clone https://github.com/DominikDoom/a1111-sd-webui-tagcomplete /content/sd-webui/extensions/a1111-sd-webui-tagcomplete\n",
        "!git clone https://github.com/hako-mikan/sd-webui-supermerger /content/sd-webui/extensions/sd-webui-supermerger\n",
        "!git clone https://github.com/KohakuBlueleaf/a1111-sd-webui-lycoris /content/sd-webui/extensions/sd-webui-lycoris\n",
        "\n",
        "!curl -Lo /content/sd-webui/extensions/sd-webui-images-browser.zip https://huggingface.co/nolanaatama/webui/resolve/main/sd-webui-images-browser.zip\n",
        "%cd /content/sd-webui/extensions\n",
        "!unzip /content/sd-webui/extensions/sd-webui-images-browser.zip\n",
        "%cd /content\n",
        "\n",
        "######################\n",
        "# Model(s) setup\n",
        "\n",
        "# OPTION 1: using model code (how-to video: https://youtu.be/vj-QrS_mWQI)\n",
        "# Change the model code below to our desired model(s), below are model code for Anygen x3.7\n",
        "\n",
        "#!curl -Lo anygenv3.7.ckpt https://huggingface.co/nolanaatama/Anygen_v3.7/resolve/main/anygenz5.6.ckpt\n",
        "#!curl -Lo anygenv3.7.vae.pt https://huggingface.co/nolanaatama/Anygen_v3.7/resolve/main/anygenz5.6.vae.pt\n",
        "#!mv \"/content/anygenv3.7.ckpt\" \"/content/sd-webui/models/Stable-diffusion\"\n",
        "#!mv \"/content/anygenv3.7.vae.pt\" \"/content/sd-webui/models/Stable-diffusion\"\n",
        "\n",
        "#!curl -Lo /content/sd-webui/models/Stable-diffusion/etherRealMix_etherRealMix2.safetensors https://civitai.com/api/download/models/63847\n",
        "# VAE of etherRealMix\n",
        "#!curl -Lo /content/sd-webui/models/Stable-diffusion/kl-f8-anime2.vae.pt https://civitai.com/api/download/models/63847?type=VAE\n",
        "\n",
        "\n",
        "# or use this\n",
        "# Below are model code for ChilloutMix, we always could change it to our desired model (how-to: https://youtu.be/vj-QrS_mWQI or https://youtu.be/MwyfwPFezvY)\n",
        "!curl -Lo /content/sd-webui/models/Stable-diffusion/chilloutmixni.safetensors https://huggingface.co/nolanaatama/chomni/resolve/main/chomni.safetensors\n",
        "\n",
        "# Download other models\n",
        "#!curl -Lo /content/sd-webui/models/Stable-diffusion/Deliberate_v2.safetensors https://huggingface.co/XpucT/Deliberate/resolve/main/Deliberate_v2.safetensors\n",
        "#!curl -Lo /content/sd-webui/models/Stable-diffusion/majicmixRealistic_v4.safetensors https://huggingface.co/XpucT/Deliberate/resolve/main/Deliberate_v2.safetensors\n",
        "!curl -Lo /content/sd-webui/models/Stable-diffusion/chikmix_V3.safetensors https://civitai.com/api/download/models/63786   \n",
        "#!curl -Lo /content/sd-webui/models/Stable-diffusion/meinaunreal_v3.safetensors https://civitai.com/api/download/models/67468\n",
        "\n",
        "\n",
        "\n",
        "# OPTION 2: load model from Google Drive (how-to video: https://youtu.be/MwyfwPFezvY)\n",
        "# Change the file path below with our model path\n",
        "\n",
        "#!cp \"/content/drive/MyDrive/mymodel/OURMODELNAME1.ckpt\" \"/content/sd-webui/models/Stable-diffusion\"\n",
        "\n",
        "# remove '#' from the beginning of these lines below and change the file path if we want to load more than one model\n",
        "# !cp \"/content/drive/MyDrive/mymodel/OURMODELNAME2.ckpt\" \"/content/sd-webui/models/Stable-diffusion\"\n",
        "# !cp \"/content/drive/MyDrive/mymodel/OURMODELNAME3.ckpt\" \"/content/sd-webui/models/Stable-diffusion\"\n",
        "\n",
        "\n",
        "######################\n",
        "# ControlNet\n",
        "# Remove '#' from the beginning of the line(s) below to download the selected ControlNet model(s)\n",
        "!curl -Lo /content/sd-webui/extensions/sd-webui-controlnet/models/control_canny-fp16.safetensors https://huggingface.co/webui/ControlNet-modules-safetensors/resolve/main/control_canny-fp16.safetensors\n",
        "!curl -Lo /content/sd-webui/extensions/sd-webui-controlnet/models/control_depth-fp16.safetensors https://huggingface.co/webui/ControlNet-modules-safetensors/resolve/main/control_depth-fp16.safetensors\n",
        "!curl -Lo /content/sd-webui/extensions/sd-webui-controlnet/models/control_hed-fp16.safetensors https://huggingface.co/webui/ControlNet-modules-safetensors/resolve/main/control_hed-fp16.safetensors\n",
        "!curl -Lo /content/sd-webui/extensions/sd-webui-controlnet/models/control_mlsd-fp16.safetensors https://huggingface.co/webui/ControlNet-modules-safetensors/resolveresolve/main/control_mlsd-fp16.safetensors\n",
        "!curl -Lo /content/sd-webui/extensions/sd-webui-controlnet/models/control_normal-fp16.safetensors https://huggingface.co/webui/ControlNet-modules-safetensors/blob/main/control_normal-fp16.safetensors\n",
        "!curl -Lo /content/sd-webui/extensions/sd-webui-controlnet/models/control_openpose-fp16.safetensors https://huggingface.co/webui/ControlNet-modules-safetensors/resolve/main/control_openpose-fp16.safetensors\n",
        "!curl -Lo /content/sd-webui/extensions/sd-webui-controlnet/models/control_scribble-fp16.safetensors https://huggingface.co/webui/ControlNet-modules-safetensors/resolve/main/control_scribble-fp16.safetensors\n",
        "!curl -Lo /content/sd-webui/extensions/sd-webui-controlnet/models/control_seg-fp16.safetensors https://huggingface.co/webui/ControlNet-modules-safetensors/resolve/main/control_seg-fp16.safetensors\n",
        "\n",
        "# LoRA\n",
        "!curl -Lo /content/sd-webui/models/Lora/FilmG3.safetensors https://civitai.com/api/download/models/69545\n",
        "!curl -Lo /content/sd-webui/models/Lora/mix4.safetensors https://civitai.com/api/download/models/16677\n",
        "!curl -Lo /content/sd-webui/models/Lora/mahalaiuniform-000001.safetensors https://civitai.com/api/download/models/58690\n",
        "!curl -Lo /content/sd-webui/models/Lora/a0d4ivn.safetensors https://civitai.com/api/download/models/19793\n",
        "!curl -Lo \"/content/sd-webui/models/Lora/GPTS4 dreamwave full_478773.safetensors\" https://civitai.com/api/download/models/71264\n",
        "!curl -Lo /content/sd-webui/models/Lora/cutieMixGirl_V1.safetensors https://civitai.com/api/download/models/74620\n",
        "\n",
        "# LyCORIS\n",
        "!mkdir /content/sd-webui/models/LyCORIS\n",
        "!curl -Lo \"/content/sd-webui/models/LyCORIS/GPTS4 dreamwave full_478773.safetensors\" https://civitai.com/api/download/models/71264\n",
        "\n",
        "# Embedding\n",
        "!curl -Lo /content/sd-webui/embeddings/pureerosface_v1.pt https://civitai.com/api/download/models/5119\n",
        "\n",
        "\n",
        "import shutil\n",
        "shutil.rmtree('/content/sd-webui/embeddings')\n",
        "!rm sd-webui.zip\n",
        "!rm sd-webui-images-browser.zip\n",
        "%cd /content/sd-webui\n",
        "!git clone https://huggingface.co/nolanaatama/embeddings\n",
        "%cd /content/sd-webui/models\n",
        "!git clone https://huggingface.co/nolanaatama/ESRGAN\n",
        "%cd /content/sd-webui/extensions/a1111-sd-webui-tagcomplete\n",
        "!git checkout f9f7732"
      ]
    },
    {
      "attachments": {},
      "cell_type": "markdown",
      "metadata": {
        "id": "DQwVPx-t8Nol"
      },
      "source": [
        "# Download additional files"
      ]
    },
    {
      "cell_type": "code",
      "execution_count": null,
      "metadata": {
        "colab": {
          "base_uri": "https://localhost:8080/"
        },
        "id": "1E0f1kMTrGJ0",
        "outputId": "8da0c093-298d-4605-9882-7ea8a4ad98ed"
      },
      "outputs": [],
      "source": [
        "!mkdir /content/sd-webui/models/LyCORIS\n",
        "!curl -Lo \"/content/sd-webui/models/LyCORIS/GPTS4 dreamwave full_478773.safetensors\" https://civitai.com/api/download/models/71264\n"
      ]
    },
    {
      "attachments": {},
      "cell_type": "markdown",
      "metadata": {
        "id": "R-WXDJ8n8R2X"
      },
      "source": [
        "# Launch the web ui"
      ]
    },
    {
      "cell_type": "code",
      "execution_count": null,
      "metadata": {
        "id": "TFuxn-DE7t82"
      },
      "outputs": [],
      "source": [
        "%cd /content/sd-webui\n",
        "# Web UI tunnel\n",
        "%cd /content/sd-webui\n",
        "!COMMANDLINE_ARGS=\"--share --disable-safe-unpickle --no-half-vae --xformers --reinstall-xformers --enable-insecure-extension- --gradio-queue --cloudflared\" REQS_FILE=\"requirements.txt\" python launch.py \\\n",
        "    --ui-settings-file /content/drive/MyDrive/sd/data/Settings/config.json \\\n",
        "    # sử dụng link down trực tiếp ở trên rồi\n",
        "    #--lora-dir /content/drive/MyDrive/SD-Data/Lora \\\n",
        "    #--embeddings-dir /content/drive/MyDrive/SD-Data/Embeddings \\\n",
        "    #--hypernetwork-dir /content/drive/MyDrive/SD-Data/Hypernetworks\n",
        "# If remotemoe failed to start, change '--remotemoe' to '--cloudflared' on the COMMANDLINE_ARGS line above to use cloudflare tunnel"
      ]
    }
  ],
  "metadata": {
    "accelerator": "GPU",
    "colab": {
      "include_colab_link": true,
      "provenance": []
    },
    "gpuClass": "standard",
    "kernelspec": {
      "display_name": "Python 3",
      "name": "python3"
    },
    "language_info": {
      "name": "python"
    }
  },
  "nbformat": 4,
  "nbformat_minor": 0
}
