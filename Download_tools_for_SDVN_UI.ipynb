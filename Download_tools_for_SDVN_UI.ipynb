{
  "cells": [
    {
      "attachments": {},
      "cell_type": "markdown",
      "metadata": {
        "id": "gAg03nKay-G8"
      },
      "source": [
        " # [![](https://img.shields.io/badge/Thiết%20kế-stablediffusion.vn-0075ff)](https://stablediffusion.vn)  [![](https://img.shields.io/badge/Group-Support-green)](https://www.facebook.com/groups/stablediffusion.vn) [![](https://img.shields.io/badge/Phiên%20Bản-WebUI-blue)](https://bit.ly/stablediffusionvn)\n",
        "***Cách lấy link download : Tại ô download trên CivitAI,Huggingface, phải chuột chọn sao chép liên kết***\n",
        "\n",
        "\n",
        "\n"
      ]
    },
    {
      "cell_type": "code",
      "execution_count": null,
      "metadata": {
        "id": "BH96N6RCqd4b"
      },
      "outputs": [],
      "source": [
        "#@title Chèn link theo đúng loại để tải vào drive ( Ấn nhanh Ctr + Enter để chạy )\n",
        "from google.colab import drive\n",
        "drive.mount('/content/drive')\n",
        "!sudo apt-get install aria2\n",
        "sample= !ls /content/drive/MyDrive/sd/data/Settings\n",
        "if sample == [\"ls: cannot access '/content/drive/MyDrive/sd/data/Settings': No such file or directory\"] :\n",
        "  print(\"Khởi tạo thư mục lần đầu\")\n",
        "  !mkdir /content/drive/MyDrive/sd/data/\n",
        "  !mkdir /content/drive/MyDrive/sd/data/Settings\n",
        "  !mkdir /content/drive/MyDrive/sd/data/Model\n",
        "  !mkdir /content/drive/MyDrive/sd/data/Lora\n",
        "  !mkdir /content/drive/MyDrive/sd/data/Embeddings\n",
        "  !mkdir /content/drive/MyDrive/sd/data/Hypernetworks\n",
        "\n",
        "#@markdown ## 🏞️ Model Download\n",
        "Model_Link = \"\" #@param {type:\"string\"}\n",
        "if Model_Link !=\"\":\n",
        " !aria2c --continue --console-log-level=error -c -x 16 -s 16 -k 1M {Model_Link} -d /content/drive/MyDrive/sd/data/Model\n",
        "else:\n",
        " print(\"Không có model nào cần tải về\")\n",
        "\n",
        "#@markdown ## 🏞️ Lora Download\n",
        "Lora_Link = \"\" #@param {type:\"string\"}\n",
        "if Lora_Link !=\"\":\n",
        " !aria2c --continue --console-log-level=error -c -x 16 -s 16 -k 1M {Lora_Link} -d /content/drive/MyDrive/sd/data/Lora\n",
        "else:\n",
        " print(\"Không có Lora nào cần tải về\")\n",
        "#@markdown ## 🏞️ Textual Download\n",
        "Textual_Link = \"\" #@param {type:\"string\"}\n",
        "if Textual_Link !=\"\":\n",
        " !aria2c --continue --console-log-level=error -c -x 16 -s 16 -k 1M {Textual_Link} -d /content/drive/MyDrive/sd/data/Embeddings\n",
        "else:\n",
        " print(\"Không có Textual nào cần tải về\")\n",
        "#@markdown ## 🏞️ Hypernetworks Download\n",
        "Hypernetworks_Link = \"\" #@param {type:\"string\"}\n",
        "if Hypernetworks_Link !=\"\":\n",
        " !aria2c --continue --console-log-level=error -c -x 16 -s 16 -k 1M {Hypernetworks_Link} -d /content/drive/MyDrive/sd/data/Hypernetworks\n",
        "else:\n",
        " print(\"Không có Hypernetworks nào cần tải về\")"
      ]
    }
  ],
  "metadata": {
    "colab": {
      "private_outputs": true,
      "provenance": []
    },
    "gpuClass": "standard",
    "kernelspec": {
      "display_name": "Python 3",
      "name": "python3"
    },
    "language_info": {
      "name": "python"
    }
  },
  "nbformat": 4,
  "nbformat_minor": 0
}
