{
  "cells": [
    {
      "cell_type": "markdown",
      "metadata": {
        "id": "view-in-github",
        "colab_type": "text"
      },
      "source": [
        "<a href=\"https://colab.research.google.com/github/uybinhphan/auto1111/blob/main/gdrive_LoRA.ipynb\" target=\"_parent\"><img src=\"https://colab.research.google.com/assets/colab-badge.svg\" alt=\"Open In Colab\"/></a>"
      ]
    },
    {
      "cell_type": "markdown",
      "source": [
        "Trick để tab chạy nền "
      ],
      "metadata": {
        "id": "JNrVHo-_n1cF"
      }
    },
    {
      "cell_type": "code",
      "source": [
        "# Run the cell below and play the music player to keep the Colab's tab alive\n",
        "%%html\n",
        "<b>Press play on the music player(Uses only 13MB of data)</b><br>\n",
        "<audio src=\"https://henk.tech/colabkobold/silence.m4a\" controls>"
      ],
      "metadata": {
        "colab": {
          "base_uri": "https://localhost:8080/",
          "height": 92
        },
        "id": "-ATeaF4un16T",
        "outputId": "fbd786d3-6a59-4949-ac80-203bbf00c225"
      },
      "execution_count": null,
      "outputs": [
        {
          "output_type": "display_data",
          "data": {
            "text/plain": [
              "<IPython.core.display.HTML object>"
            ],
            "text/html": [
              "<b>Press play on the music player(Uses only 13MB of data)</b><br>\n",
              "<audio src=\"https://henk.tech/colabkobold/silence.m4a\" controls>\n"
            ]
          },
          "metadata": {}
        }
      ]
    },
    {
      "cell_type": "markdown",
      "source": [
        "# 1. Setup the web ui"
      ],
      "metadata": {
        "id": "bsiZpfkU7S77"
      }
    },
    {
      "cell_type": "code",
      "execution_count": null,
      "metadata": {
        "id": "sBbcB4vwj_jm"
      },
      "outputs": [],
      "source": [
        "!curl -Lo memfix.zip cmemfix.zip\n",
        "!unzip /content/memfix.zip\n",
        "!apt install -qq libunwind8-dev\n",
        "!apt install -qq libcairo2-dev pkg-config python3-dev\n",
        "!dpkg -i *.deb\n",
        "%env LD_PRELOAD=libtcmalloc.so\n",
        "!rm *\n",
        "!pip install --upgrade fastapi==0.90.1\n",
        "!pip install torch==1.13.1+cu116 torchvision==0.14.1+cu116 torchaudio==0.13.1 torchtext==0.14.1 torchdata==0.5.1 --extra-index-url https://download.pytorch.org/whl/cu116 -U\n",
        "!curl -Lo sd-webui.zip https://huggingface.co/nolanaatama/webui/resolve/main/sd-webui.zip\n",
        "!unzip /content/sd-webui.zip\n",
        "!git clone https://github.com/nolanaatama/sd-webui-tunnels /content/sd-webui/extensions/sd-webui-tunnels\n",
        "!git clone https://github.com/Mikubill/sd-webui-controlnet /content/sd-webui/extensions/sd-webui-controlnet\n",
        "!git clone https://github.com/fkunn1326/openpose-editor /content/sd-webui/extensions/openpose-editor\n",
        "!git clone https://github.com/hnmr293/posex /content/sd-webui/extensions/posex\n",
        "!git clone https://github.com/DominikDoom/a1111-sd-webui-tagcomplete /content/sd-webui/extensions/a1111-sd-webui-tagcomplete\n",
        "!git clone https://github.com/hako-mikan/sd-webui-supermerger /content/sd-webui/extensions/sd-webui-supermerger\n",
        "#!git clone https://github.com/civitai/sd_civitai_extension.git /content/sd-webui/extensions/sd_civitai\n",
        "!curl -Lo /content/sd-webui/extensions/sd-webui-images-browser.zip https://huggingface.co/nolanaatama/webui/resolve/main/sd-webui-images-browser.zip\n",
        "%cd /content/sd-webui/extensions\n",
        "!unzip /content/sd-webui/extensions/sd-webui-images-browser.zip\n",
        "%cd /content\n",
        "\n",
        "######################\n",
        "# Model(s) setup\n",
        "\n",
        "# OPTION 1: using model code (how-to video: https://youtu.be/vj-QrS_mWQI)\n",
        "# Change the model code below to our desired model(s), below are model code for Anygen x3.7\n",
        "\n",
        "#!curl -Lo anygenv3.7.ckpt https://huggingface.co/nolanaatama/Anygen_v3.7/resolve/main/anygenz5.6.ckpt\n",
        "#!curl -Lo anygenv3.7.vae.pt https://huggingface.co/nolanaatama/Anygen_v3.7/resolve/main/anygenz5.6.vae.pt\n",
        "#!mv \"/content/anygenv3.7.ckpt\" \"/content/sd-webui/models/Stable-diffusion\"\n",
        "#!mv \"/content/anygenv3.7.vae.pt\" \"/content/sd-webui/models/Stable-diffusion\"\n",
        "\n",
        "# model 2\n",
        "# !curl ...\n",
        "# !mv ...\n",
        "\n",
        "# model 3\n",
        "# !curl ...\n",
        "# !mv ...\n",
        "\n",
        "# or use this\n",
        "# Below are model code for ChilloutMix, we always could change it to our desired model (how-to: https://youtu.be/vj-QrS_mWQI or https://youtu.be/MwyfwPFezvY)\n",
        "!curl -Lo /content/sd-webui/models/Stable-diffusion/chilloutmixni.safetensors https://huggingface.co/nolanaatama/chomni/resolve/main/chomni.safetensors\n",
        "\n",
        "\n",
        "# OPTION 2: load model from Google Drive (how-to video: https://youtu.be/MwyfwPFezvY)\n",
        "# Change the file path below with our model path\n",
        "\n",
        "#!cp \"/content/drive/MyDrive/mymodel/OURMODELNAME1.ckpt\" \"/content/sd-webui/models/Stable-diffusion\"\n",
        "\n",
        "# remove '#' from the beginning of these lines below and change the file path if we want to load more than one model\n",
        "# !cp \"/content/drive/MyDrive/mymodel/OURMODELNAME2.ckpt\" \"/content/sd-webui/models/Stable-diffusion\"\n",
        "# !cp \"/content/drive/MyDrive/mymodel/OURMODELNAME3.ckpt\" \"/content/sd-webui/models/Stable-diffusion\"\n",
        "\n",
        "######################\n",
        "# ControlNet\n",
        "# Remove '#' from the beginning of the line(s) below to download the selected ControlNet model(s)\n",
        "#!curl -Lo /content/sd-webui/extensions/sd-webui-controlnet/models/control_v11e_sd15_ip2p.safetensors https://huggingface.co/nolanaatama/models/resolve/main/control_v11e_sd15_ip2p_fp16.safetensors\n",
        "#!curl -Lo /content/sd-webui/extensions/sd-webui-controlnet/models/control_v11e_sd15_shuffle.safetensors https://huggingface.co/nolanaatama/models/resolve/main/control_v11e_sd15_shuffle_fp16.safetensors\n",
        "#!curl -Lo /content/sd-webui/extensions/sd-webui-controlnet/models/control_v11p_sd15_canny.safetensors https://huggingface.co/nolanaatama/models/resolve/main/control_v11p_sd15_canny_fp16.safetensors\n",
        "!curl -Lo /content/sd-webui/extensions/sd-webui-controlnet/models/control_v11f1p_sd15_depth.safetensors https://huggingface.co/nolanaatama/models/resolve/main/control_v11p_sd15_depth_fp16.safetensors\n",
        "#!curl -Lo /content/sd-webui/extensions/sd-webui-controlnet/models/control_v11p_sd15_inpaint.safetensors https://huggingface.co/nolanaatama/models/resolve/main/control_v11p_sd15_inpaint_fp16.safetensors\n",
        "!curl -Lo /content/sd-webui/extensions/sd-webui-controlnet/models/control_v11p_sd15_lineart.safetensors https://huggingface.co/nolanaatama/models/resolve/main/control_v11p_sd15_lineart_fp16.safetensors\n",
        "#!curl -Lo /content/sd-webui/extensions/sd-webui-controlnet/models/control_v11p_sd15_mlsd.safetensors https://huggingface.co/nolanaatama/models/resolve/main/control_v11p_sd15_mlsd_fp16.safetensors\n",
        "#!curl -Lo /content/sd-webui/extensions/sd-webui-controlnet/models/control_v11p_sd15_normalbae.safetensors https://huggingface.co/nolanaatama/models/resolve/main/control_v11p_sd15_normalbae_fp16.safetensors\n",
        "!curl -Lo /content/sd-webui/extensions/sd-webui-controlnet/models/control_v11p_sd15_openpose.safetensors https://huggingface.co/nolanaatama/models/resolve/main/control_v11p_sd15_openpose_fp16.safetensors\n",
        "#!curl -Lo /content/sd-webui/extensions/sd-webui-controlnet/models/control_v11p_sd15_scribble.safetensors https://huggingface.co/nolanaatama/models/resolve/main/control_v11p_sd15_scribble_fp16.safetensors\n",
        "#!curl -Lo /content/sd-webui/extensions/sd-webui-controlnet/models/control_v11p_sd15_seg.safetensors https://huggingface.co/nolanaatama/models/resolve/main/control_v11p_sd15_seg_fp16.safetensors\n",
        "#!curl -Lo /content/sd-webui/extensions/sd-webui-controlnet/models/control_v11p_sd15_softedge.safetensors https://huggingface.co/nolanaatama/models/resolve/main/control_v11p_sd15_softedge_fp16.safetensors\n",
        "!curl -Lo /content/sd-webui/extensions/sd-webui-controlnet/models/control_v11p_sd15s2_lineart_anime.safetensors https://huggingface.co/nolanaatama/models/resolve/main/control_v11p_sd15s2_lineart_anime_fp16.safetensors\n",
        "#!curl -Lo /content/sd-webui/extensions/sd-webui-controlnet/models/control_v11u_sd15_tile.safetensors https://huggingface.co/nolanaatama/models/resolve/main/control_v11u_sd15_tile_fp16.safetensors\n",
        "#!curl -Lo /content/sd-webui/extensions/sd-webui-controlnet/models/t2iadapter_canny_sd14v1.pth https://huggingface.co/nolanaatama/models/resolve/main/t2iadapter_canny_sd14v1.pth\n",
        "#!curl -Lo /content/sd-webui/extensions/sd-webui-controlnet/models/t2iadapter_color_sd14v1.pth https://huggingface.co/nolanaatama/models/resolve/main/t2iadapter_color_sd14v1.pth\n",
        "#!curl -Lo /content/sd-webui/extensions/sd-webui-controlnet/models/t2iadapter_depth_sd14v1.pth https://huggingface.co/nolanaatama/models/resolve/main/t2iadapter_depth_sd14v1.pth\n",
        "#!curl -Lo /content/sd-webui/extensions/sd-webui-controlnet/models/t2iadapter_keypose_sd14v1.pth https://huggingface.co/nolanaatama/models/resolve/main/t2iadapter_keypose_sd14v1.pth\n",
        "#!curl -Lo /content/sd-webui/extensions/sd-webui-controlnet/models/t2iadapter_openpose_sd14v1.pth https://huggingface.co/nolanaatama/models/resolve/main/t2iadapter_openpose_sd14v1.pth\n",
        "#!curl -Lo /content/sd-webui/extensions/sd-webui-controlnet/models/t2iadapter_seg_sd14v1.pth https://huggingface.co/nolanaatama/models/resolve/main/t2iadapter_seg_sd14v1.pth\n",
        "#!curl -Lo /content/sd-webui/extensions/sd-webui-controlnet/models/t2iadapter_sketch_sd14v1.pth https://huggingface.co/nolanaatama/models/resolve/main/t2iadapter_sketch_sd14v1.pth\n",
        "#!curl -Lo /content/sd-webui/extensions/sd-webui-controlnet/models/t2iadapter_style_sd14v1.pth https://huggingface.co/nolanaatama/models/resolve/main/t2iadapter_style_sd14v1.pth\n",
        "import shutil\n",
        "shutil.rmtree('/content/sd-webui/embeddings')\n",
        "!rm sd-webui.zip\n",
        "!rm sd-webui-images-browser.zip\n",
        "%cd /content/sd-webui\n",
        "!git clone https://huggingface.co/nolanaatama/embeddings\n",
        "%cd /content/sd-webui/models\n",
        "!git clone https://huggingface.co/nolanaatama/ESRGAN\n",
        "%cd /content/sd-webui/extensions/a1111-sd-webui-tagcomplete\n",
        "!git checkout f9f7732\n",
        "%cd /content/sd-webui\n",
        "# Web UI tunnel\n",
        "!COMMANDLINE_ARGS=\"--share --disable-safe-unpickle --no-half-vae --xformers --reinstall-xformers --enable-insecure-extension --gradio-queue --cloudflared\" REQS_FILE=\"requirements.txt\" python launch.py\n",
        "# If remotemoe failed to start, change '--remotemoe' to '--cloudflared' on the COMMANDLINE_ARGS line above to use cloudflare tunnel"
      ]
    },
    {
      "cell_type": "markdown",
      "source": [
        "# 2. After the gradio link show up, stop the first cell & clear the code output👆"
      ],
      "metadata": {
        "id": "JUtPlg328avv"
      }
    },
    {
      "cell_type": "markdown",
      "source": [
        "Code to download"
      ],
      "metadata": {
        "id": "9Lr018VsS4FM"
      }
    },
    {
      "cell_type": "code",
      "source": [
        "!curl -Lo /content/sd-webui/models/Stable-diffusion/lyriel_v15.safetensors https://civitai.com/api/download/models/50127\n"
      ],
      "metadata": {
        "id": "tSexa08vMzS7"
      },
      "execution_count": null,
      "outputs": []
    },
    {
      "cell_type": "markdown",
      "source": [
        "# 3. Mount our drive"
      ],
      "metadata": {
        "id": "qxhOCPrg7WXm"
      }
    },
    {
      "cell_type": "code",
      "source": [
        "from google.colab import drive\n",
        "drive.mount('/content/drive')"
      ],
      "metadata": {
        "id": "alypPmxi69M4",
        "colab": {
          "base_uri": "https://localhost:8080/"
        },
        "outputId": "6dd2248a-5374-45fd-bba2-eb3d656fa6f1"
      },
      "execution_count": 3,
      "outputs": [
        {
          "output_type": "stream",
          "name": "stdout",
          "text": [
            "Mounted at /content/drive\n"
          ]
        }
      ]
    },
    {
      "cell_type": "markdown",
      "source": [
        "# 4. Load the LoRA(s)"
      ],
      "metadata": {
        "id": "DQwVPx-t8Nol"
      }
    },
    {
      "cell_type": "markdown",
      "source": [
        "OPTION 1: choose individual LoRA"
      ],
      "metadata": {
        "id": "OJx4QIQosMMq"
      }
    },
    {
      "cell_type": "code",
      "source": [
        "# Change the file path to our LoRA file path.\n",
        "# Remove the '#' from the beginning of the other lines to load additional files.\n",
        "\n",
        "!cp \"/content/drive/MyDrive/our_LoRA_folder/OURLORAFILE1.pt\" \"/content/sd-webui/models/Lora\"\n",
        "#!cp \"/content/drive/MyDrive/our_LoRA_folder/OURLORAFILE2.pt\" \"/content/sd-webui/models/Lora\"\n",
        "#!cp \"/content/drive/MyDrive/our_LoRA_folder/OURLORAFILE3.pt\" \"/content/sd-webui/models/Lora\"\n",
        "#!cp \"/content/drive/MyDrive/our_LoRA_folder/OURLORAFILE4.pt\" \"/content/sd-webui/models/Lora\"\n",
        "#!cp \"/content/drive/MyDrive/our_LoRA_folder/OURLORAFILE5.pt\" \"/content/sd-webui/models/Lora\"\n",
        "#!cp \"/content/drive/MyDrive/our_LoRA_folder/OURLORAFILE6.pt\" \"/content/sd-webui/models/Lora\"\n",
        "#!cp \"/content/drive/MyDrive/our_LoRA_folder/OURLORAFILE7.pt\" \"/content/sd-webui/models/Lora\"\n",
        "#!cp \"/content/drive/MyDrive/our_LoRA_folder/OURLORAFILE8.pt\" \"/content/sd-webui/models/Lora\"\n",
        "# ...."
      ],
      "metadata": {
        "id": "1E0f1kMTrGJ0"
      },
      "execution_count": null,
      "outputs": []
    },
    {
      "cell_type": "markdown",
      "source": [
        "OPTION 2: copy all LoRA files from google drive folder"
      ],
      "metadata": {
        "id": "47CPtGUfsar8"
      }
    },
    {
      "cell_type": "code",
      "source": [
        "# Remove the '#' from the '!cp -r ...' line and change the file path to our LoRA folder path.\n",
        "# The LoRA folder path must be ended with '/.' like '/folder/subfolder/.'\n",
        "\n",
        "!cp -r '/content/drive/MyDrive/our_LoRA_folder1/.' '/content/sd-webui/models/Lora'\n",
        "#!cp -r '/content/drive/MyDrive/our_LoRA_folder2/.' '/content/sd-webui/models/Lora'\n",
        "#!cp -r '/content/drive/MyDrive/our_LoRA_folder3/.' '/content/sd-webui/models/Lora'\n",
        "# ...."
      ],
      "metadata": {
        "id": "dKmIwc3lsYR6"
      },
      "execution_count": null,
      "outputs": []
    },
    {
      "cell_type": "markdown",
      "source": [
        "# (OPTIONAL) Load the VAE(s)"
      ],
      "metadata": {
        "id": "IOiCtLWirY5F"
      }
    },
    {
      "cell_type": "markdown",
      "source": [
        "OPTION 1: choose individual VAE"
      ],
      "metadata": {
        "id": "K8eaYMMlrY5M"
      }
    },
    {
      "cell_type": "code",
      "source": [
        "# Change the file path to our VAE file path.\n",
        "# Remove the '#' from the beginning of the other lines to load additional files.\n",
        "\n",
        "!cp \"/content/drive/MyDrive/our_VAE_folder/OURVAEFILE1.pt\" \"/content/sd-webui/models/VAE\"\n",
        "#!cp \"/content/drive/MyDrive/our_VAE_folder/OURVAEFILE2.pt\" \"/content/sd-webui/models/VAE\"\n",
        "#!cp \"/content/drive/MyDrive/our_VAE_folder/OURVAEFILE3.pt\" \"/content/sd-webui/models/VAE\"\n",
        "#!cp \"/content/drive/MyDrive/our_VAE_folder/OURVAEFILE4.pt\" \"/content/sd-webui/models/VAE\"\n",
        "#!cp \"/content/drive/MyDrive/our_VAE_folder/OURVAEFILE5.pt\" \"/content/sd-webui/models/VAE\"\n",
        "#!cp \"/content/drive/MyDrive/our_VAE_folder/OURVAEFILE6.pt\" \"/content/sd-webui/models/VAE\"\n",
        "#!cp \"/content/drive/MyDrive/our_VAE_folder/OURVAEFILE7.pt\" \"/content/sd-webui/models/VAE\"\n",
        "#!cp \"/content/drive/MyDrive/our_VAE_folder/OURVAEFILE8.pt\" \"/content/sd-webui/models/VAE\"\n",
        "# ...."
      ],
      "metadata": {
        "id": "mA8PuOJwrY5N"
      },
      "execution_count": null,
      "outputs": []
    },
    {
      "cell_type": "markdown",
      "source": [
        "OPTION 2: copy all VAE files from google drive folder"
      ],
      "metadata": {
        "id": "ToGrRElNrY5Q"
      }
    },
    {
      "cell_type": "code",
      "source": [
        "# Remove the '#' from the '!cp -r ...' line and change the file path to our LoRA folder path.\n",
        "# The LoRA folder path must be ended with '/.' like '/folder/subfolder/.'\n",
        "\n",
        "!cp -r '/content/drive/MyDrive/our_VAE_folder1/.' '/content/sd-webui/models/VAE'\n",
        "#!cp -r '/content/drive/MyDrive/our_VAE_folder2/.' '/content/sd-webui/models/VAE'\n",
        "#!cp -r '/content/drive/MyDrive/our_VAE_folder3/.' '/content/sd-webui/models/VAE'\n",
        "# ...."
      ],
      "metadata": {
        "id": "u4R5oLOmrY5Q"
      },
      "execution_count": null,
      "outputs": []
    },
    {
      "cell_type": "markdown",
      "source": [
        "# 5. Launch the web ui"
      ],
      "metadata": {
        "id": "R-WXDJ8n8R2X"
      }
    },
    {
      "cell_type": "code",
      "source": [
        "%cd /content/sd-webui\n",
        "# Web UI tunnel\n",
        "!COMMANDLINE_ARGS=\"--share --disable-safe-unpickle --no-half-vae --xformers --reinstall-xformers --enable-insecure-extension- --gradio-queue --cloudflared\" REQS_FILE=\"requirements.txt\" python launch.py\n",
        "# If remotemoe failed to start, change '--remotemoe' to '--cloudflared' on the COMMANDLINE_ARGS line above to use cloudflare tunnel"
      ],
      "metadata": {
        "id": "TFuxn-DE7t82"
      },
      "execution_count": null,
      "outputs": []
    },
    {
      "cell_type": "markdown",
      "metadata": {
        "id": "fhwIXzcgfkoR"
      },
      "source": [
        "# 📚 GitHub for more: [_@nolanaatama_](https://github.com/nolanaatama)\n",
        "# 📦 Repo: [Github](https://github.com/nolanaatama/sd-misc-colab)"
      ]
    }
  ],
  "metadata": {
    "accelerator": "GPU",
    "colab": {
      "provenance": [],
      "include_colab_link": true
    },
    "gpuClass": "standard",
    "kernelspec": {
      "display_name": "Python 3",
      "name": "python3"
    },
    "language_info": {
      "name": "python"
    }
  },
  "nbformat": 4,
  "nbformat_minor": 0
}