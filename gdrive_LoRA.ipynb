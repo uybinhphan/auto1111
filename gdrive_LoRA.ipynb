{
  "cells": [
    {
      "cell_type": "markdown",
      "metadata": {
        "id": "view-in-github",
        "colab_type": "text"
      },
      "source": [
        "<a href=\"https://colab.research.google.com/github/uybinhphan/auto1111/blob/main/gdrive_LoRA.ipynb\" target=\"_parent\"><img src=\"https://colab.research.google.com/assets/colab-badge.svg\" alt=\"Open In Colab\"/></a>"
      ]
    },
    {
      "cell_type": "markdown",
      "source": [
        "Trick để tab chạy nền "
      ],
      "metadata": {
        "id": "JNrVHo-_n1cF"
      }
    },
    {
      "cell_type": "code",
      "source": [
        "# Run the cell below and play the music player to keep the Colab's tab alive\n",
        "%%html\n",
        "<b>Press play on the music player(Uses only 13MB of data)</b><br>\n",
        "<audio src=\"https://henk.tech/colabkobold/silence.m4a\" controls>"
      ],
      "metadata": {
        "colab": {
          "base_uri": "https://localhost:8080/",
          "height": 93
        },
        "id": "-ATeaF4un16T",
        "outputId": "e24232aa-b522-4afc-8375-41d846e9fee6"
      },
      "execution_count": 1,
      "outputs": [
        {
          "output_type": "display_data",
          "data": {
            "text/plain": [
              "<IPython.core.display.HTML object>"
            ],
            "text/html": [
              "<b>Press play on the music player(Uses only 13MB of data)</b><br>\n",
              "<audio src=\"https://henk.tech/colabkobold/silence.m4a\" controls>\n"
            ]
          },
          "metadata": {}
        }
      ]
    },
    {
      "cell_type": "markdown",
      "source": [
        "# 1. Setup the web ui"
      ],
      "metadata": {
        "id": "bsiZpfkU7S77"
      }
    },
    {
      "cell_type": "code",
      "execution_count": null,
      "metadata": {
        "id": "sBbcB4vwj_jm"
      },
      "outputs": [],
      "source": [
        "!curl -Lo memfix.zip cmemfix.zip\n",
        "!unzip /content/memfix.zip\n",
        "!apt install -qq libunwind8-dev\n",
        "!apt install -qq libcairo2-dev pkg-config python3-dev\n",
        "!dpkg -i *.deb\n",
        "%env LD_PRELOAD=libtcmalloc.so\n",
        "!rm *\n",
        "!pip install --upgrade fastapi==0.90.1\n",
        "!pip install torch==1.13.1+cu116 torchvision==0.14.1+cu116 torchaudio==0.13.1 torchtext==0.14.1 torchdata==0.5.1 --extra-index-url https://download.pytorch.org/whl/cu116 -U\n",
        "!curl -Lo sd-webui.zip https://huggingface.co/nolanaatama/webui/resolve/main/sd-webui.zip\n",
        "!unzip /content/sd-webui.zip\n",
        "!git clone https://github.com/nolanaatama/sd-webui-tunnels /content/sd-webui/extensions/sd-webui-tunnels\n",
        "!git clone https://github.com/Mikubill/sd-webui-controlnet /content/sd-webui/extensions/sd-webui-controlnet\n",
        "!git clone https://github.com/fkunn1326/openpose-editor /content/sd-webui/extensions/openpose-editor\n",
        "!git clone https://github.com/hnmr293/posex /content/sd-webui/extensions/posex\n",
        "!git clone https://github.com/DominikDoom/a1111-sd-webui-tagcomplete /content/sd-webui/extensions/a1111-sd-webui-tagcomplete\n",
        "!git clone https://github.com/hako-mikan/sd-webui-supermerger /content/sd-webui/extensions/sd-webui-supermerger\n",
        "#!git clone https://github.com/civitai/sd_civitai_extension.git /content/sd-webui/extensions/sd_civitai\n",
        "!curl -Lo /content/sd-webui/extensions/sd-webui-images-browser.zip https://huggingface.co/nolanaatama/webui/resolve/main/sd-webui-images-browser.zip\n",
        "%cd /content/sd-webui/extensions\n",
        "!unzip /content/sd-webui/extensions/sd-webui-images-browser.zip\n",
        "%cd /content\n",
        "\n",
        "######################\n",
        "# Model(s) setup\n",
        "\n",
        "# OPTION 1: using model code (how-to video: https://youtu.be/vj-QrS_mWQI)\n",
        "# Change the model code below to our desired model(s), below are model code for Anygen x3.7\n",
        "\n",
        "#!curl -Lo anygenv3.7.ckpt https://huggingface.co/nolanaatama/Anygen_v3.7/resolve/main/anygenz5.6.ckpt\n",
        "#!curl -Lo anygenv3.7.vae.pt https://huggingface.co/nolanaatama/Anygen_v3.7/resolve/main/anygenz5.6.vae.pt\n",
        "#!mv \"/content/anygenv3.7.ckpt\" \"/content/sd-webui/models/Stable-diffusion\"\n",
        "#!mv \"/content/anygenv3.7.vae.pt\" \"/content/sd-webui/models/Stable-diffusion\"\n",
        "\n",
        "# model 2\n",
        "# !curl ...\n",
        "# !mv ...\n",
        "\n",
        "# model 3\n",
        "# !curl ...\n",
        "# !mv ...\n",
        "\n",
        "# or use this\n",
        "# Below are model code for ChilloutMix, we always could change it to our desired model (how-to: https://youtu.be/vj-QrS_mWQI or https://youtu.be/MwyfwPFezvY)\n",
        "#!curl -Lo /content/sd-webui/models/Stable-diffusion/chilloutmixni.safetensors https://huggingface.co/nolanaatama/chomni/resolve/main/chomni.safetensors\n",
        "\n",
        "# Download Deliberate model\n",
        "!curl -Lo /content/sd-webui/models/Stable-diffusion/Deliberate_v2.safetensors https://huggingface.co/XpucT/Deliberate/resolve/main/Deliberate_v2.safetensors\n",
        "\n",
        "# OPTION 2: load model from Google Drive (how-to video: https://youtu.be/MwyfwPFezvY)\n",
        "# Change the file path below with our model path\n",
        "\n",
        "#!cp \"/content/drive/MyDrive/mymodel/OURMODELNAME1.ckpt\" \"/content/sd-webui/models/Stable-diffusion\"\n",
        "\n",
        "# remove '#' from the beginning of these lines below and change the file path if we want to load more than one model\n",
        "# !cp \"/content/drive/MyDrive/mymodel/OURMODELNAME2.ckpt\" \"/content/sd-webui/models/Stable-diffusion\"\n",
        "# !cp \"/content/drive/MyDrive/mymodel/OURMODELNAME3.ckpt\" \"/content/sd-webui/models/Stable-diffusion\"\n",
        "\n",
        "######################\n",
        "# ControlNet\n",
        "# Remove '#' from the beginning of the line(s) below to download the selected ControlNet model(s)\n",
        "#!curl -Lo /content/sd-webui/extensions/sd-webui-controlnet/models/control_v11e_sd15_ip2p.safetensors https://huggingface.co/nolanaatama/models/resolve/main/control_v11e_sd15_ip2p_fp16.safetensors\n",
        "#!curl -Lo /content/sd-webui/extensions/sd-webui-controlnet/models/control_v11e_sd15_shuffle.safetensors https://huggingface.co/nolanaatama/models/resolve/main/control_v11e_sd15_shuffle_fp16.safetensors\n",
        "#!curl -Lo /content/sd-webui/extensions/sd-webui-controlnet/models/control_v11p_sd15_canny.safetensors https://huggingface.co/nolanaatama/models/resolve/main/control_v11p_sd15_canny_fp16.safetensors\n",
        "!curl -Lo /content/sd-webui/extensions/sd-webui-controlnet/models/control_v11f1p_sd15_depth.safetensors https://huggingface.co/nolanaatama/models/resolve/main/control_v11p_sd15_depth_fp16.safetensors\n",
        "#!curl -Lo /content/sd-webui/extensions/sd-webui-controlnet/models/control_v11p_sd15_inpaint.safetensors https://huggingface.co/nolanaatama/models/resolve/main/control_v11p_sd15_inpaint_fp16.safetensors\n",
        "!curl -Lo /content/sd-webui/extensions/sd-webui-controlnet/models/control_v11p_sd15_lineart.safetensors https://huggingface.co/nolanaatama/models/resolve/main/control_v11p_sd15_lineart_fp16.safetensors\n",
        "#!curl -Lo /content/sd-webui/extensions/sd-webui-controlnet/models/control_v11p_sd15_mlsd.safetensors https://huggingface.co/nolanaatama/models/resolve/main/control_v11p_sd15_mlsd_fp16.safetensors\n",
        "#!curl -Lo /content/sd-webui/extensions/sd-webui-controlnet/models/control_v11p_sd15_normalbae.safetensors https://huggingface.co/nolanaatama/models/resolve/main/control_v11p_sd15_normalbae_fp16.safetensors\n",
        "!curl -Lo /content/sd-webui/extensions/sd-webui-controlnet/models/control_v11p_sd15_openpose.safetensors https://huggingface.co/nolanaatama/models/resolve/main/control_v11p_sd15_openpose_fp16.safetensors\n",
        "#!curl -Lo /content/sd-webui/extensions/sd-webui-controlnet/models/control_v11p_sd15_scribble.safetensors https://huggingface.co/nolanaatama/models/resolve/main/control_v11p_sd15_scribble_fp16.safetensors\n",
        "#!curl -Lo /content/sd-webui/extensions/sd-webui-controlnet/models/control_v11p_sd15_seg.safetensors https://huggingface.co/nolanaatama/models/resolve/main/control_v11p_sd15_seg_fp16.safetensors\n",
        "#!curl -Lo /content/sd-webui/extensions/sd-webui-controlnet/models/control_v11p_sd15_softedge.safetensors https://huggingface.co/nolanaatama/models/resolve/main/control_v11p_sd15_softedge_fp16.safetensors\n",
        "!curl -Lo /content/sd-webui/extensions/sd-webui-controlnet/models/control_v11p_sd15s2_lineart_anime.safetensors https://huggingface.co/nolanaatama/models/resolve/main/control_v11p_sd15s2_lineart_anime_fp16.safetensors\n",
        "#!curl -Lo /content/sd-webui/extensions/sd-webui-controlnet/models/control_v11u_sd15_tile.safetensors https://huggingface.co/nolanaatama/models/resolve/main/control_v11u_sd15_tile_fp16.safetensors\n",
        "#!curl -Lo /content/sd-webui/extensions/sd-webui-controlnet/models/t2iadapter_canny_sd14v1.pth https://huggingface.co/nolanaatama/models/resolve/main/t2iadapter_canny_sd14v1.pth\n",
        "#!curl -Lo /content/sd-webui/extensions/sd-webui-controlnet/models/t2iadapter_color_sd14v1.pth https://huggingface.co/nolanaatama/models/resolve/main/t2iadapter_color_sd14v1.pth\n",
        "#!curl -Lo /content/sd-webui/extensions/sd-webui-controlnet/models/t2iadapter_depth_sd14v1.pth https://huggingface.co/nolanaatama/models/resolve/main/t2iadapter_depth_sd14v1.pth\n",
        "#!curl -Lo /content/sd-webui/extensions/sd-webui-controlnet/models/t2iadapter_keypose_sd14v1.pth https://huggingface.co/nolanaatama/models/resolve/main/t2iadapter_keypose_sd14v1.pth\n",
        "#!curl -Lo /content/sd-webui/extensions/sd-webui-controlnet/models/t2iadapter_openpose_sd14v1.pth https://huggingface.co/nolanaatama/models/resolve/main/t2iadapter_openpose_sd14v1.pth\n",
        "#!curl -Lo /content/sd-webui/extensions/sd-webui-controlnet/models/t2iadapter_seg_sd14v1.pth https://huggingface.co/nolanaatama/models/resolve/main/t2iadapter_seg_sd14v1.pth\n",
        "#!curl -Lo /content/sd-webui/extensions/sd-webui-controlnet/models/t2iadapter_sketch_sd14v1.pth https://huggingface.co/nolanaatama/models/resolve/main/t2iadapter_sketch_sd14v1.pth\n",
        "#!curl -Lo /content/sd-webui/extensions/sd-webui-controlnet/models/t2iadapter_style_sd14v1.pth https://huggingface.co/nolanaatama/models/resolve/main/t2iadapter_style_sd14v1.pth\n",
        "import shutil\n",
        "shutil.rmtree('/content/sd-webui/embeddings')\n",
        "!rm sd-webui.zip\n",
        "!rm sd-webui-images-browser.zip\n",
        "%cd /content/sd-webui\n",
        "!git clone https://huggingface.co/nolanaatama/embeddings\n",
        "%cd /content/sd-webui/models\n",
        "!git clone https://huggingface.co/nolanaatama/ESRGAN\n",
        "%cd /content/sd-webui/extensions/a1111-sd-webui-tagcomplete\n",
        "!git checkout f9f7732\n",
        "%cd /content/sd-webui\n",
        "# Web UI tunnel\n",
        "!COMMANDLINE_ARGS=\"--share --disable-safe-unpickle --no-half-vae --xformers --reinstall-xformers --enable-insecure-extension --gradio-queue --cloudflared\" REQS_FILE=\"requirements.txt\" python launch.py\n",
        "# If remotemoe failed to start, change '--remotemoe' to '--cloudflared' on the COMMANDLINE_ARGS line above to use cloudflare tunnel"
      ]
    },
    {
      "cell_type": "markdown",
      "source": [
        "# 2. After the gradio link show up, stop the first cell & clear the code output👆"
      ],
      "metadata": {
        "id": "JUtPlg328avv"
      }
    },
    {
      "cell_type": "markdown",
      "source": [
        "Code to download"
      ],
      "metadata": {
        "id": "9Lr018VsS4FM"
      }
    },
    {
      "cell_type": "code",
      "source": [
        "!curl -Lo /content/sd-webui/models/Stable-diffusion/revAnimated_v122.safetensors https://civitai.com/api/download/models/46846\n"
      ],
      "metadata": {
        "colab": {
          "base_uri": "https://localhost:8080/"
        },
        "id": "tSexa08vMzS7",
        "outputId": "fe593414-fb69-4ae9-a535-52a2489b6437"
      },
      "execution_count": null,
      "outputs": [
        {
          "output_type": "stream",
          "name": "stdout",
          "text": [
            "ERROR: ld.so: object 'libtcmalloc.so' from LD_PRELOAD cannot be preloaded (cannot open shared object file): ignored.\n",
            "ERROR: ld.so: object 'libtcmalloc.so' from LD_PRELOAD cannot be preloaded (cannot open shared object file): ignored.\n",
            "  % Total    % Received % Xferd  Average Speed   Time    Time     Time  Current\n",
            "                                 Dload  Upload   Total   Spent    Left  Speed\n",
            "100   504    0   504    0     0   1163      0 --:--:-- --:--:-- --:--:--  1163\n",
            "100 5250M  100 5250M    0     0  10.0M      0  0:08:44  0:08:44 --:--:-- 11.7M\n"
          ]
        }
      ]
    },
    {
      "cell_type": "markdown",
      "source": [
        "# 3. Mount our drive"
      ],
      "metadata": {
        "id": "qxhOCPrg7WXm"
      }
    },
    {
      "cell_type": "code",
      "source": [
        "from google.colab import drive\n",
        "drive.mount('/content/drive')"
      ],
      "metadata": {
        "id": "alypPmxi69M4",
        "colab": {
          "base_uri": "https://localhost:8080/"
        },
        "outputId": "6dd2248a-5374-45fd-bba2-eb3d656fa6f1"
      },
      "execution_count": null,
      "outputs": [
        {
          "output_type": "stream",
          "name": "stdout",
          "text": [
            "Mounted at /content/drive\n"
          ]
        }
      ]
    },
    {
      "cell_type": "markdown",
      "source": [
        "# 4. Load the LoRA(s)"
      ],
      "metadata": {
        "id": "DQwVPx-t8Nol"
      }
    },
    {
      "cell_type": "markdown",
      "source": [
        "OPTION 1: choose individual LoRA"
      ],
      "metadata": {
        "id": "OJx4QIQosMMq"
      }
    },
    {
      "cell_type": "code",
      "source": [
        "# Change the file path to our LoRA file path.\n",
        "# Remove the '#' from the beginning of the other lines to load additional files.\n",
        "\n",
        "!cp \"/content/drive/MyDrive/our_LoRA_folder/OURLORAFILE1.pt\" \"/content/sd-webui/models/Lora\"\n",
        "#!cp \"/content/drive/MyDrive/our_LoRA_folder/OURLORAFILE2.pt\" \"/content/sd-webui/models/Lora\"\n",
        "#!cp \"/content/drive/MyDrive/our_LoRA_folder/OURLORAFILE3.pt\" \"/content/sd-webui/models/Lora\"\n",
        "#!cp \"/content/drive/MyDrive/our_LoRA_folder/OURLORAFILE4.pt\" \"/content/sd-webui/models/Lora\"\n",
        "#!cp \"/content/drive/MyDrive/our_LoRA_folder/OURLORAFILE5.pt\" \"/content/sd-webui/models/Lora\"\n",
        "#!cp \"/content/drive/MyDrive/our_LoRA_folder/OURLORAFILE6.pt\" \"/content/sd-webui/models/Lora\"\n",
        "#!cp \"/content/drive/MyDrive/our_LoRA_folder/OURLORAFILE7.pt\" \"/content/sd-webui/models/Lora\"\n",
        "#!cp \"/content/drive/MyDrive/our_LoRA_folder/OURLORAFILE8.pt\" \"/content/sd-webui/models/Lora\"\n",
        "# ...."
      ],
      "metadata": {
        "id": "1E0f1kMTrGJ0"
      },
      "execution_count": null,
      "outputs": []
    },
    {
      "cell_type": "markdown",
      "source": [
        "OPTION 2: copy all LoRA files from google drive folder"
      ],
      "metadata": {
        "id": "47CPtGUfsar8"
      }
    },
    {
      "cell_type": "code",
      "source": [
        "# Remove the '#' from the '!cp -r ...' line and change the file path to our LoRA folder path.\n",
        "# The LoRA folder path must be ended with '/.' like '/folder/subfolder/.'\n",
        "\n",
        "!cp -r '/content/drive/MyDrive/our_LoRA_folder1/.' '/content/sd-webui/models/Lora'\n",
        "#!cp -r '/content/drive/MyDrive/our_LoRA_folder2/.' '/content/sd-webui/models/Lora'\n",
        "#!cp -r '/content/drive/MyDrive/our_LoRA_folder3/.' '/content/sd-webui/models/Lora'\n",
        "# ...."
      ],
      "metadata": {
        "id": "dKmIwc3lsYR6"
      },
      "execution_count": null,
      "outputs": []
    },
    {
      "cell_type": "markdown",
      "source": [
        "# (OPTIONAL) Load the VAE(s)"
      ],
      "metadata": {
        "id": "IOiCtLWirY5F"
      }
    },
    {
      "cell_type": "markdown",
      "source": [
        "OPTION 1: choose individual VAE"
      ],
      "metadata": {
        "id": "K8eaYMMlrY5M"
      }
    },
    {
      "cell_type": "code",
      "source": [
        "# Change the file path to our VAE file path.\n",
        "# Remove the '#' from the beginning of the other lines to load additional files.\n",
        "\n",
        "!cp \"/content/drive/MyDrive/our_VAE_folder/OURVAEFILE1.pt\" \"/content/sd-webui/models/VAE\"\n",
        "#!cp \"/content/drive/MyDrive/our_VAE_folder/OURVAEFILE2.pt\" \"/content/sd-webui/models/VAE\"\n",
        "#!cp \"/content/drive/MyDrive/our_VAE_folder/OURVAEFILE3.pt\" \"/content/sd-webui/models/VAE\"\n",
        "#!cp \"/content/drive/MyDrive/our_VAE_folder/OURVAEFILE4.pt\" \"/content/sd-webui/models/VAE\"\n",
        "#!cp \"/content/drive/MyDrive/our_VAE_folder/OURVAEFILE5.pt\" \"/content/sd-webui/models/VAE\"\n",
        "#!cp \"/content/drive/MyDrive/our_VAE_folder/OURVAEFILE6.pt\" \"/content/sd-webui/models/VAE\"\n",
        "#!cp \"/content/drive/MyDrive/our_VAE_folder/OURVAEFILE7.pt\" \"/content/sd-webui/models/VAE\"\n",
        "#!cp \"/content/drive/MyDrive/our_VAE_folder/OURVAEFILE8.pt\" \"/content/sd-webui/models/VAE\"\n",
        "# ...."
      ],
      "metadata": {
        "id": "mA8PuOJwrY5N"
      },
      "execution_count": null,
      "outputs": []
    },
    {
      "cell_type": "markdown",
      "source": [
        "OPTION 2: copy all VAE files from google drive folder"
      ],
      "metadata": {
        "id": "ToGrRElNrY5Q"
      }
    },
    {
      "cell_type": "code",
      "source": [
        "# Remove the '#' from the '!cp -r ...' line and change the file path to our LoRA folder path.\n",
        "# The LoRA folder path must be ended with '/.' like '/folder/subfolder/.'\n",
        "\n",
        "!cp -r '/content/drive/MyDrive/our_VAE_folder1/.' '/content/sd-webui/models/VAE'\n",
        "#!cp -r '/content/drive/MyDrive/our_VAE_folder2/.' '/content/sd-webui/models/VAE'\n",
        "#!cp -r '/content/drive/MyDrive/our_VAE_folder3/.' '/content/sd-webui/models/VAE'\n",
        "# ...."
      ],
      "metadata": {
        "id": "u4R5oLOmrY5Q"
      },
      "execution_count": null,
      "outputs": []
    },
    {
      "cell_type": "markdown",
      "source": [
        "# 5. Launch the web ui"
      ],
      "metadata": {
        "id": "R-WXDJ8n8R2X"
      }
    },
    {
      "cell_type": "code",
      "source": [
        "%cd /content/sd-webui\n",
        "# Web UI tunnel\n",
        "!COMMANDLINE_ARGS=\"--share --disable-safe-unpickle --no-half-vae --xformers --reinstall-xformers --enable-insecure-extension- --gradio-queue --cloudflared\" REQS_FILE=\"requirements.txt\" python launch.py\n",
        "# If remotemoe failed to start, change '--remotemoe' to '--cloudflared' on the COMMANDLINE_ARGS line above to use cloudflare tunnel"
      ],
      "metadata": {
        "id": "TFuxn-DE7t82",
        "colab": {
          "base_uri": "https://localhost:8080/"
        },
        "outputId": "daaeb3ea-1556-4f9b-8f83-2fb21c11f9c2"
      },
      "execution_count": null,
      "outputs": [
        {
          "output_type": "stream",
          "name": "stdout",
          "text": [
            "/content/sd-webui\n",
            "ERROR: ld.so: object 'libtcmalloc.so' from LD_PRELOAD cannot be preloaded (cannot open shared object file): ignored.\n",
            "ERROR: ld.so: object 'libtcmalloc.so' from LD_PRELOAD cannot be preloaded (cannot open shared object file): ignored.\n",
            "ERROR: ld.so: object 'libtcmalloc.so' from LD_PRELOAD cannot be preloaded (cannot open shared object file): ignored.\n",
            "ERROR: ld.so: object 'libtcmalloc.so' from LD_PRELOAD cannot be preloaded (cannot open shared object file): ignored.\n",
            "Python 3.10.11 (main, Apr  5 2023, 14:15:10) [GCC 9.4.0]\n",
            "Commit hash: 0cc0ee1bcb4c24a8c9715f66cede06601bfc00c8\n",
            "Installing xformers\n",
            "Installing requirements for Web UI\n",
            "\n",
            "#######################################################################################################\n",
            "Initializing Civitai Link\n",
            "If submitting an issue on github, please provide the below text for debugging purposes:\n",
            "\n",
            "Python revision: 3.10.11 (main, Apr  5 2023, 14:15:10) [GCC 9.4.0]\n",
            "Civitai Link revision: c6251a12120ac9f946fcaf8d9cb0a0f19176d9e6\n",
            "SD-WebUI revision: 0cc0ee1bcb4c24a8c9715f66cede06601bfc00c8\n",
            "\n",
            "Checking Civitai Link requirements...\n",
            "[+] python-socketio[client] version 5.7.2 installed.\n",
            "\n",
            "#######################################################################################################\n",
            "\n",
            "\n",
            "\n",
            "\n",
            "Launching Web UI with arguments: --share --disable-safe-unpickle --no-half-vae --xformers --enable-insecure-extension- --gradio-queue --cloudflared\n",
            "2023-05-14 05:05:28.660140: I tensorflow/core/platform/cpu_feature_guard.cc:182] This TensorFlow binary is optimized to use available CPU instructions in performance-critical operations.\n",
            "To enable the following instructions: AVX2 FMA, in other operations, rebuild TensorFlow with the appropriate compiler flags.\n",
            "2023-05-14 05:05:30.996852: W tensorflow/compiler/tf2tensorrt/utils/py_utils.cc:38] TF-TRT Warning: Could not find TensorRT\n",
            "ERROR: ld.so: object 'libtcmalloc.so' from LD_PRELOAD cannot be preloaded (cannot open shared object file): ignored.\n",
            "ERROR: ld.so: object 'libtcmalloc.so' from LD_PRELOAD cannot be preloaded (cannot open shared object file): ignored.\n",
            "ControlNet v1.1.165\n",
            "ControlNet v1.1.165\n",
            "cloudflared detected, trying to connect...\n",
            "Civitai: API loaded\n",
            "Loading weights [fc2511737a] from /content/sd-webui/models/Stable-diffusion/chilloutmixni.safetensors\n",
            "Creating model from config: /content/sd-webui/configs/v1-inference.yaml\n",
            "LatentDiffusion: Running in eps-prediction mode\n",
            "DiffusionWrapper has 859.52 M params.\n",
            "Applying xformers cross attention optimization.\n",
            "Textual inversion embeddings loaded(17): pureerosface_v1, EasyNegativeV2, bad-artist-anime, ng_deepnegative_v1_75t, charturnerv2, bad-hands-5, badhandv4, verybadimagenegative_v1.3, bad-picture-chill-75v, HyperStylizeV6, ulzzang-6500-v1.1, bad_prompt_version2, ulzzang-6500, bad-artist, bad-image-v2-39000, easynegative, bad_prompt\n",
            "Textual inversion embeddings skipped(4): nfixer, 21charturnerv2, nrealfixer, nartfixer\n",
            "Model loaded in 28.2s (load weights from disk: 0.9s, create model: 0.9s, apply weights to model: 17.1s, apply half(): 1.1s, load VAE: 7.2s, move model to device: 0.8s, load textual inversion embeddings: 0.1s).\n",
            "Running on local URL:  http://127.0.0.1:7860\n",
            "Running on public URL: https://fee25828-ee66-4f26.gradio.live\n",
            "\n",
            "This share link expires in 72 hours. For free permanent hosting and GPU upgrades (NEW!), check out Spaces: https://huggingface.co/spaces\n",
            "Civitai: Check resources for missing preview images\n",
            "Calculating sha256 for /content/sd-webui/models/Stable-diffusion/revAnimated_v122.safetensors: 4199bcdd147e11328d5f3560301d5a7ab4ac7eeefbf49dc3eb663cb3e772b9ac\n",
            "Civitai: Found 8 resources missing preview images\n",
            "Civitai: Found 1 hash matches\n",
            "Civitai: Updated 0 preview images\n",
            "Loading weights [4199bcdd14] from /content/sd-webui/models/Stable-diffusion/revAnimated_v122.safetensors\n",
            "Applying xformers cross attention optimization.\n",
            "Weights loaded in 26.3s (load weights from disk: 1.4s, apply weights to model: 24.1s, move model to device: 0.8s).\n",
            "  0% 0/25 [00:00<?, ?it/s]\n",
            "  4% 1/25 [00:07<03:05,  7.72s/it]\n",
            "  8% 2/25 [00:07<01:16,  3.31s/it]\n",
            " 12% 3/25 [00:08<00:41,  1.91s/it]\n",
            " 16% 4/25 [00:08<00:26,  1.25s/it]\n",
            " 20% 5/25 [00:08<00:17,  1.13it/s]\n",
            " 24% 6/25 [00:08<00:12,  1.49it/s]\n",
            " 28% 7/25 [00:09<00:09,  1.89it/s]\n",
            " 32% 8/25 [00:09<00:07,  2.30it/s]\n",
            " 36% 9/25 [00:09<00:05,  2.68it/s]\n",
            " 40% 10/25 [00:09<00:05,  3.00it/s]\n",
            " 44% 11/25 [00:10<00:04,  3.28it/s]\n",
            " 48% 12/25 [00:10<00:03,  3.51it/s]\n",
            " 52% 13/25 [00:10<00:03,  3.70it/s]\n",
            " 56% 14/25 [00:10<00:02,  3.81it/s]\n",
            " 60% 15/25 [00:11<00:02,  3.90it/s]\n",
            " 64% 16/25 [00:11<00:02,  3.86it/s]\n",
            " 68% 17/25 [00:11<00:02,  3.95it/s]\n",
            " 72% 18/25 [00:11<00:01,  3.67it/s]\n",
            " 76% 19/25 [00:12<00:01,  3.75it/s]\n",
            " 80% 20/25 [00:12<00:01,  3.81it/s]\n",
            " 84% 21/25 [00:12<00:01,  3.91it/s]\n",
            " 88% 22/25 [00:12<00:00,  3.92it/s]\n",
            " 92% 23/25 [00:13<00:00,  3.97it/s]\n",
            " 96% 24/25 [00:13<00:00,  4.03it/s]\n",
            "100% 25/25 [00:13<00:00,  1.83it/s]\n",
            "Total progress: 100% 25/25 [00:26<00:00,  1.04s/it]\n",
            "  0% 0/25 [00:00<?, ?it/s]\n",
            "  4% 1/25 [00:05<02:17,  5.74s/it]\n",
            "  8% 2/25 [00:06<01:06,  2.89s/it]\n",
            " 12% 3/25 [00:07<00:43,  1.99s/it]\n",
            " 16% 4/25 [00:08<00:32,  1.56s/it]\n",
            " 20% 5/25 [00:09<00:26,  1.33s/it]\n",
            " 24% 6/25 [00:10<00:22,  1.19s/it]\n",
            " 28% 7/25 [00:11<00:19,  1.10s/it]\n",
            " 32% 8/25 [00:12<00:17,  1.04s/it]\n",
            " 36% 9/25 [00:13<00:16,  1.00s/it]\n",
            " 40% 10/25 [00:13<00:14,  1.03it/s]\n",
            " 44% 11/25 [00:14<00:13,  1.04it/s]\n",
            " 48% 12/25 [00:15<00:12,  1.05it/s]\n",
            " 52% 13/25 [00:16<00:11,  1.06it/s]\n",
            " 56% 14/25 [00:17<00:10,  1.06it/s]\n",
            " 60% 15/25 [00:18<00:09,  1.07it/s]\n",
            " 64% 16/25 [00:19<00:08,  1.07it/s]\n",
            " 68% 17/25 [00:20<00:07,  1.07it/s]\n",
            " 72% 18/25 [00:21<00:06,  1.08it/s]\n",
            " 76% 19/25 [00:22<00:05,  1.08it/s]\n",
            " 80% 20/25 [00:23<00:04,  1.08it/s]\n",
            " 84% 21/25 [00:24<00:03,  1.08it/s]\n",
            " 88% 22/25 [00:25<00:02,  1.07it/s]\n",
            " 92% 23/25 [00:26<00:01,  1.07it/s]\n",
            " 96% 24/25 [00:26<00:00,  1.07it/s]\n",
            "100% 25/25 [00:27<00:00,  1.12s/it]\n",
            "Total progress: 100% 25/25 [00:28<00:00,  1.14s/it]\n",
            "  0% 0/25 [00:00<?, ?it/s]\n",
            "  4% 1/25 [00:07<03:05,  7.74s/it]\n",
            "  8% 2/25 [00:08<01:25,  3.73s/it]\n",
            " 12% 3/25 [00:09<00:53,  2.45s/it]\n",
            " 16% 4/25 [00:10<00:38,  1.85s/it]\n",
            " 20% 5/25 [00:11<00:30,  1.52s/it]\n",
            " 24% 6/25 [00:12<00:25,  1.32s/it]\n",
            " 28% 7/25 [00:13<00:21,  1.19s/it]\n",
            " 32% 8/25 [00:14<00:18,  1.11s/it]\n",
            " 36% 9/25 [00:15<00:16,  1.05s/it]\n",
            " 40% 10/25 [00:16<00:15,  1.02s/it]\n",
            " 44% 11/25 [00:17<00:13,  1.01it/s]\n",
            " 48% 12/25 [00:17<00:12,  1.03it/s]\n",
            " 52% 13/25 [00:18<00:11,  1.03it/s]\n",
            " 56% 14/25 [00:19<00:10,  1.04it/s]\n",
            " 60% 15/25 [00:20<00:09,  1.05it/s]\n",
            " 64% 16/25 [00:21<00:08,  1.05it/s]\n",
            " 68% 17/25 [00:22<00:07,  1.05it/s]\n",
            " 72% 18/25 [00:23<00:06,  1.06it/s]\n",
            " 76% 19/25 [00:24<00:05,  1.06it/s]\n",
            " 80% 20/25 [00:25<00:04,  1.06it/s]\n",
            " 84% 21/25 [00:26<00:03,  1.06it/s]\n",
            " 88% 22/25 [00:27<00:02,  1.06it/s]\n",
            " 92% 23/25 [00:28<00:01,  1.06it/s]\n",
            " 96% 24/25 [00:29<00:00,  1.06it/s]\n",
            "100% 25/25 [00:30<00:00,  1.21s/it]\n",
            "Total progress: 100% 25/25 [00:29<00:00,  1.18s/it]\n",
            "  0% 0/25 [00:00<?, ?it/s]\n",
            "  4% 1/25 [00:00<00:22,  1.06it/s]\n",
            "  8% 2/25 [00:01<00:21,  1.07it/s]\n",
            " 12% 3/25 [00:02<00:20,  1.07it/s]\n",
            " 16% 4/25 [00:03<00:19,  1.07it/s]\n",
            " 20% 5/25 [00:04<00:18,  1.07it/s]\n",
            " 24% 6/25 [00:05<00:17,  1.06it/s]\n",
            " 28% 7/25 [00:06<00:17,  1.06it/s]\n",
            " 32% 8/25 [00:07<00:16,  1.06it/s]\n",
            " 36% 9/25 [00:08<00:15,  1.06it/s]\n",
            " 40% 10/25 [00:09<00:14,  1.06it/s]\n",
            " 44% 11/25 [00:10<00:13,  1.06it/s]\n",
            " 48% 12/25 [00:11<00:12,  1.06it/s]\n",
            " 52% 13/25 [00:12<00:11,  1.06it/s]\n",
            " 56% 14/25 [00:13<00:10,  1.05it/s]\n",
            " 60% 15/25 [00:14<00:09,  1.05it/s]\n",
            " 64% 16/25 [00:15<00:08,  1.05it/s]\n",
            " 68% 17/25 [00:16<00:07,  1.05it/s]\n",
            " 72% 18/25 [00:17<00:06,  1.05it/s]\n",
            " 76% 19/25 [00:17<00:05,  1.05it/s]\n",
            " 80% 20/25 [00:18<00:04,  1.05it/s]\n",
            " 84% 21/25 [00:19<00:03,  1.05it/s]\n",
            " 88% 22/25 [00:20<00:02,  1.04it/s]\n",
            " 92% 23/25 [00:21<00:01,  1.04it/s]\n",
            " 96% 24/25 [00:22<00:00,  1.04it/s]\n",
            "100% 25/25 [00:23<00:00,  1.05it/s]\n",
            "Total progress: 100% 25/25 [00:30<00:00,  1.22s/it]\n",
            "  0% 0/25 [00:00<?, ?it/s]\n",
            "  4% 1/25 [00:00<00:23,  1.03it/s]\n",
            "  8% 2/25 [00:01<00:22,  1.04it/s]\n",
            " 12% 3/25 [00:02<00:21,  1.04it/s]\n",
            " 16% 4/25 [00:03<00:20,  1.05it/s]\n",
            " 20% 5/25 [00:04<00:19,  1.05it/s]\n",
            " 24% 6/25 [00:05<00:18,  1.05it/s]\n",
            " 28% 7/25 [00:06<00:17,  1.04it/s]\n",
            " 32% 8/25 [00:07<00:16,  1.04it/s]\n",
            " 36% 9/25 [00:08<00:15,  1.04it/s]\n",
            " 40% 10/25 [00:09<00:14,  1.04it/s]\n",
            " 44% 11/25 [00:10<00:13,  1.04it/s]\n",
            " 48% 12/25 [00:11<00:12,  1.03it/s]\n",
            " 52% 13/25 [00:12<00:11,  1.03it/s]\n",
            " 56% 14/25 [00:13<00:10,  1.03it/s]\n",
            " 60% 15/25 [00:14<00:09,  1.03it/s]\n",
            " 64% 16/25 [00:15<00:08,  1.03it/s]\n",
            " 68% 17/25 [00:16<00:07,  1.02it/s]\n",
            " 72% 18/25 [00:17<00:06,  1.02it/s]\n",
            " 76% 19/25 [00:18<00:05,  1.02it/s]\n",
            " 80% 20/25 [00:19<00:04,  1.02it/s]\n",
            " 84% 21/25 [00:20<00:03,  1.01it/s]\n",
            " 88% 22/25 [00:21<00:02,  1.01it/s]\n",
            " 92% 23/25 [00:22<00:01,  1.01it/s]\n",
            " 96% 24/25 [00:23<00:00,  1.01it/s]\n",
            "100% 25/25 [00:24<00:00,  1.03it/s]\n",
            "Total progress: 100% 25/25 [00:30<00:00,  1.22s/it]\n",
            "Loading weights [4d91c4c217] from /content/sd-webui/models/Stable-diffusion/lyriel_v15.safetensors\n",
            "Applying xformers cross attention optimization.\n",
            "Weights loaded in 12.2s (load weights from disk: 1.6s, apply weights to model: 9.7s, move model to device: 0.9s).\n",
            "  0% 0/19 [00:00<?, ?it/s]\n",
            "  5% 1/19 [00:00<00:04,  3.66it/s]\n",
            " 11% 2/19 [00:00<00:04,  3.77it/s]\n",
            " 16% 3/19 [00:00<00:04,  3.81it/s]\n",
            " 21% 4/19 [00:01<00:04,  3.68it/s]\n",
            " 26% 5/19 [00:01<00:03,  3.75it/s]\n",
            " 32% 6/19 [00:01<00:03,  3.80it/s]\n",
            " 37% 7/19 [00:01<00:03,  3.81it/s]\n",
            " 42% 8/19 [00:02<00:02,  3.77it/s]\n",
            " 47% 9/19 [00:02<00:02,  3.79it/s]\n",
            " 53% 10/19 [00:02<00:02,  3.80it/s]\n",
            " 58% 11/19 [00:02<00:02,  3.78it/s]\n",
            " 63% 12/19 [00:03<00:01,  3.74it/s]\n",
            " 68% 13/19 [00:03<00:01,  3.75it/s]\n",
            " 74% 14/19 [00:03<00:01,  3.77it/s]\n",
            " 79% 15/19 [00:03<00:01,  3.77it/s]\n",
            " 84% 16/19 [00:04<00:00,  3.74it/s]\n",
            " 89% 17/19 [00:04<00:00,  3.77it/s]\n",
            " 95% 18/19 [00:04<00:00,  3.80it/s]\n",
            "100% 19/19 [00:05<00:00,  3.78it/s]\n",
            "Total progress: 100% 19/19 [00:06<00:00,  2.94it/s]\n",
            "  0% 0/19 [00:00<?, ?it/s]\n",
            "  5% 1/19 [00:00<00:17,  1.05it/s]\n",
            " 11% 2/19 [00:01<00:16,  1.06it/s]\n",
            " 16% 3/19 [00:02<00:15,  1.05it/s]\n",
            " 21% 4/19 [00:03<00:14,  1.05it/s]\n",
            " 26% 5/19 [00:04<00:13,  1.05it/s]\n",
            " 32% 6/19 [00:05<00:12,  1.05it/s]\n",
            " 37% 7/19 [00:06<00:11,  1.04it/s]\n",
            " 42% 8/19 [00:07<00:10,  1.04it/s]\n",
            " 47% 9/19 [00:08<00:09,  1.04it/s]\n",
            " 53% 10/19 [00:09<00:08,  1.04it/s]\n",
            " 58% 11/19 [00:10<00:07,  1.03it/s]\n",
            " 63% 12/19 [00:11<00:06,  1.03it/s]\n",
            " 68% 13/19 [00:12<00:05,  1.03it/s]\n",
            " 74% 14/19 [00:13<00:04,  1.03it/s]\n",
            " 79% 15/19 [00:14<00:03,  1.03it/s]\n",
            " 84% 16/19 [00:15<00:02,  1.02it/s]\n",
            " 89% 17/19 [00:16<00:01,  1.02it/s]\n",
            " 95% 18/19 [00:17<00:00,  1.02it/s]\n",
            "100% 19/19 [00:18<00:00,  1.03it/s]\n",
            "Total progress: 100% 19/19 [00:24<00:00,  1.28s/it]\n"
          ]
        }
      ]
    },
    {
      "cell_type": "markdown",
      "metadata": {
        "id": "fhwIXzcgfkoR"
      },
      "source": [
        "# 📚 GitHub for more: [_@nolanaatama_](https://github.com/nolanaatama)\n",
        "# 📦 Repo: [Github](https://github.com/nolanaatama/sd-misc-colab)"
      ]
    },
    {
      "cell_type": "markdown",
      "source": [],
      "metadata": {
        "id": "s552j_lfhyG8"
      }
    }
  ],
  "metadata": {
    "accelerator": "GPU",
    "colab": {
      "provenance": [],
      "include_colab_link": true
    },
    "gpuClass": "standard",
    "kernelspec": {
      "display_name": "Python 3",
      "name": "python3"
    },
    "language_info": {
      "name": "python"
    }
  },
  "nbformat": 4,
  "nbformat_minor": 0
}